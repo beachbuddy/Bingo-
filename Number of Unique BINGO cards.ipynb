{
 "cells": [
  {
   "cell_type": "markdown",
   "metadata": {},
   "source": [
    "Exactly how many unique BINGO tickets can be printed?\n",
    "B: 5 number between 1 and 15\n",
    "I: 5 numbers between 16 and 30\n",
    "N: 4 numbers between 31 and 45\n",
    "G: 5 numbers between 46 and 60\n",
    "0: 5 numbers between 61 and 75"
   ]
  },
  {
   "cell_type": "code",
   "execution_count": 2,
   "metadata": {},
   "outputs": [],
   "source": [
    "import scipy\n",
    "from scipy.special import factorial"
   ]
  },
  {
   "cell_type": "code",
   "execution_count": 3,
   "metadata": {},
   "outputs": [],
   "source": [
    "def one_set_combo(total,pick):\n",
    "    combos=factorial(total)/(factorial(pick)*(factorial(total-pick)))\n",
    "    return combos"
   ]
  },
  {
   "cell_type": "markdown",
   "metadata": {},
   "source": [
    "The number of combos for B,I,G and O will be the same.\n",
    "For N, the number of combos is slightly different."
   ]
  },
  {
   "cell_type": "code",
   "execution_count": 7,
   "metadata": {},
   "outputs": [],
   "source": [
    "#Combos for B,I,G, and O:\n",
    "A=one_set_combo(15,5)"
   ]
  },
  {
   "cell_type": "code",
   "execution_count": 8,
   "metadata": {},
   "outputs": [],
   "source": [
    "#Combos for N:\n",
    "B=one_set_combo(15,4)"
   ]
  },
  {
   "cell_type": "code",
   "execution_count": 21,
   "metadata": {},
   "outputs": [
    {
     "name": "stdout",
     "output_type": "stream",
     "text": [
      "The total number of unique BINGO cards is: 1.1e+17\n"
     ]
    }
   ],
   "source": [
    "#The total number of unique cards is the product of all these combos\n",
    "Total=A*A*B*A*A\n",
    "print('The total number of unique BINGO cards is: %4.1e' %Total)"
   ]
  },
  {
   "cell_type": "markdown",
   "metadata": {},
   "source": [
    "Let's divide this by the population of the world (7.9 billion)"
   ]
  },
  {
   "cell_type": "code",
   "execution_count": 24,
   "metadata": {},
   "outputs": [
    {
     "name": "stdout",
     "output_type": "stream",
     "text": [
      "Every person in the world could hold 1.4e+07 unique BINGO cards\n"
     ]
    }
   ],
   "source": [
    "My_cards=Total/7.9e+9\n",
    "print('Every person in the world could hold %4.1e unique BINGO cards' %My_cards)"
   ]
  },
  {
   "cell_type": "markdown",
   "metadata": {},
   "source": [
    "This means every person in the world could hold 14 million unique BINGO cards!"
   ]
  }
 ],
 "metadata": {
  "kernelspec": {
   "display_name": "Python 3",
   "language": "python",
   "name": "python3"
  },
  "language_info": {
   "codemirror_mode": {
    "name": "ipython",
    "version": 3
   },
   "file_extension": ".py",
   "mimetype": "text/x-python",
   "name": "python",
   "nbconvert_exporter": "python",
   "pygments_lexer": "ipython3",
   "version": "3.8.5"
  }
 },
 "nbformat": 4,
 "nbformat_minor": 4
}
