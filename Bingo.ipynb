{
 "cells": [
  {
   "cell_type": "markdown",
   "metadata": {},
   "source": [
    "The following is a proposed solution to the Bingo Game\n",
    "We want to know the probability of a BINGO as a function of the number of balls drawn\n",
    "The large prize is usually awarded if a BINGO blackout happens with 50 balls drawn"
   ]
  },
  {
   "cell_type": "code",
   "execution_count": 1,
   "metadata": {},
   "outputs": [],
   "source": [
    "import scipy\n",
    "from scipy.special import factorial"
   ]
  },
  {
   "cell_type": "code",
   "execution_count": 2,
   "metadata": {},
   "outputs": [
    {
     "data": {
      "text/plain": [
       "6.0"
      ]
     },
     "execution_count": 2,
     "metadata": {},
     "output_type": "execute_result"
    }
   ],
   "source": [
    "factorial(3)"
   ]
  },
  {
   "cell_type": "markdown",
   "metadata": {},
   "source": [
    "Let's consider each column separately. \n",
    "If we know the probability of each column being filled separately, we can multiply the probabilities\n",
    "of each column to find the probability that the card is filled."
   ]
  },
  {
   "cell_type": "markdown",
   "metadata": {},
   "source": [
    "Column B: 1-15; 5 numbers on card\n",
    "Column I: 16-30; 5 numbers on card\n",
    "Column N: 31-45; 4 numbers on card (centre is free)\n",
    "Column G: 46-60; 5 numbers on card\n",
    "Column O: 61-75; 5 numbers on card"
   ]
  },
  {
   "cell_type": "code",
   "execution_count": 13,
   "metadata": {},
   "outputs": [],
   "source": [
    "def prob_col(total,col_picks,draws):\n",
    "    col_combos=factorial(draws)/(factorial(col_picks)*(factorial(draws-col_picks)))\n",
    "    total_combos=factorial(total)/(factorial(col_picks)*(factorial(total-col_picks)))\n",
    "    prob=col_combos/total_combos\n",
    "    return prob"
   ]
  },
  {
   "cell_type": "code",
   "execution_count": 34,
   "metadata": {},
   "outputs": [
    {
     "name": "stdout",
     "output_type": "stream",
     "text": [
      "[3.215512156703224e-13, 9.345680328959792e-13, 2.5952416469796565e-12, 6.9115915243668576e-12, 1.7711104043610833e-11, 4.37976338243881e-11, 1.0479089249798229e-10, 2.431503238641188e-10, 5.482916802669233e-10, 1.2037913882122357e-09, 2.5777011838751267e-09, 5.3917044749837245e-09, 1.1031684435314442e-08, 2.2107345440026914e-08, 4.344300956994025e-08, 8.380293451854686e-08, 1.588490072599237e-07, 2.961365833708611e-07, 5.434355190487976e-07, 9.82406675782477e-07, 1.7507989116908348e-06, 3.0780453546717784e-06, 5.3416995373835775e-06, 9.155944014865903e-06, 1.5508965023474652e-05, 2.5974069422260108e-05, 4.3031068670371244e-05, 7.055110620944298e-05, 0.0001145217238709288, 0.00018412221685459214, 0.0002933058127105238, 0.00046310974943963303, 0.0007250033460027058, 0.0011257061665500801, 0.0017340745912337412, 0.0026508802173359656, 0.004022606685726863, 0.006060797619915989, 0.00906902948104166, 0.013480300547919011, 0.019908573737563714, 0.02921945388688577, 0.042626604828863185, 0.06182262607775237, 0.08915584913325625, 0.1278680498702042, 0.1824126193840102, 0.2588785565684085, 0.36555307128259057, 0.5136650251472282, 0.7183633909465026, 1.0]\n"
     ]
    }
   ],
   "source": [
    "col_pics=[5,5,4,5,5]\n",
    "total=75\n",
    "prob_card_blackout=[]\n",
    "for draws in range(24,76):\n",
    "    prob_total_blackout=1\n",
    "    for i in range(len(col_pics)):\n",
    "        prob_col_blackout=prob_col(total,col_pics[i],draws)\n",
    "        prob_total_blackout=prob_col_blackout*prob_total_blackout\n",
    "    prob_card_blackout.append(prob_total_blackout)\n",
    "print(prob_card_blackout)       "
   ]
  },
  {
   "cell_type": "code",
   "execution_count": 37,
   "metadata": {},
   "outputs": [
    {
     "data": {
      "text/plain": [
       "23239.023126761047"
      ]
     },
     "execution_count": 37,
     "metadata": {},
     "output_type": "execute_result"
    }
   ],
   "source": [
    "1/prob_card_blackout[26]"
   ]
  },
  {
   "cell_type": "markdown",
   "metadata": {},
   "source": [
    "It appears the probability of a BINGO in 50 numbers is one in 23,239.  Sounds reasonable."
   ]
  },
  {
   "cell_type": "code",
   "execution_count": 38,
   "metadata": {},
   "outputs": [],
   "source": [
    "import matplotlib.pyplot as plt"
   ]
  },
  {
   "cell_type": "code",
   "execution_count": 39,
   "metadata": {},
   "outputs": [
    {
     "data": {
      "text/plain": [
       "[<matplotlib.lines.Line2D at 0x20e881facd0>]"
      ]
     },
     "execution_count": 39,
     "metadata": {},
     "output_type": "execute_result"
    },
    {
     "data": {
      "image/png": "[encoded data removed]",
      "text/plain": [
       "<Figure size 432x288 with 1 Axes>"
      ]
     },
     "metadata": {
      "needs_background": "light"
     },
     "output_type": "display_data"
    }
   ],
   "source": [
    "x=[]\n",
    "for i in range(24,76):\n",
    "    x.append(i+1)\n",
    "y=prob_card_blackout   \n",
    "plt.yscale('log')\n",
    "plt.plot(x,y)"
   ]
  },
  {
   "cell_type": "code",
   "execution_count": null,
   "metadata": {},
   "outputs": [],
   "source": []
  }
 ],
 "metadata": {
  "kernelspec": {
   "display_name": "Python 3",
   "language": "python",
   "name": "python3"
  },
  "language_info": {
   "codemirror_mode": {
    "name": "ipython",
    "version": 3
   },
   "file_extension": ".py",
   "mimetype": "text/x-python",
   "name": "python",
   "nbconvert_exporter": "python",
   "pygments_lexer": "ipython3",
   "version": "3.8.5"
  }
 },
 "nbformat": 4,
 "nbformat_minor": 4
}
